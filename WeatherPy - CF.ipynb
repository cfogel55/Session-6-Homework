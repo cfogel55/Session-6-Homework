{
 "cells": [
  {
   "cell_type": "code",
   "execution_count": 92,
   "metadata": {},
   "outputs": [],
   "source": [
    "import requests\n",
    "import json\n",
    "from pprint import pprint\n",
    "import random\n",
    "import pandas as pd\n",
    "import gmaps\n",
    "\n",
    "from citipy import citipy\n",
    "from api_keys import api_key"
   ]
  },
  {
   "cell_type": "code",
   "execution_count": 84,
   "metadata": {},
   "outputs": [],
   "source": [
    "latitudes = []\n",
    "longitudes =[]\n",
    "coordinates = []"
   ]
  },
  {
   "cell_type": "code",
   "execution_count": 85,
   "metadata": {},
   "outputs": [],
   "source": [
    "# Get random coordinates from each quadrant.\n",
    "\n",
    "#1st quadrant\n",
    "latitudes = [random.uniform(0, 90) for x in range(2)]  ## change 2 to 125!!!!!!!!!!!!!!!!!!!1\n",
    "longitudes = [random.uniform(0, -180) for x in range(2)]\n",
    "first_coordinates = list(zip(latitudes, longitudes))\n",
    "\n",
    "#2nd quadrant\n",
    "latitudes = [random.uniform(0, 90) for x in range(2)]\n",
    "longitudes = [random.uniform(0, 180) for x in range(2)]\n",
    "second_coordinates =(list(zip(latitudes, longitudes)))\n",
    "\n",
    "#3rd quadrant\n",
    "latitudes = [random.uniform(0, -90) for x in range(2)]\n",
    "longitudes = [random.uniform(0, -180) for x in range(2)]\n",
    "third_coordinates = list(zip(latitudes, longitudes))\n",
    "              \n",
    "#4th quadrant\n",
    "latitudes = [random.uniform(0, -90) for x in range(2)]\n",
    "longitudes = [random.uniform(0, 180) for x in range(2)]\n",
    "fourth_coordinates = list(zip(latitudes, longitudes))\n",
    " \n",
    "coordinates = first_coordinates + second_coordinates + third_coordinates + fourth_coordinates"
   ]
  },
  {
   "cell_type": "code",
   "execution_count": 86,
   "metadata": {},
   "outputs": [],
   "source": [
    "url = \"http://api.openweathermap.org/data/2.5/weather?\"\n",
    "unit = \"imperial\""
   ]
  },
  {
   "cell_type": "code",
   "execution_count": 87,
   "metadata": {},
   "outputs": [],
   "source": [
    "non_repeat_city_list = {}\n",
    "\n",
    "max_temperature_list = []\n",
    "humidity_list = []\n",
    "cloudiness_list = []\n",
    "city_list = []\n",
    "country_list = []\n",
    "wind_speed_list = []\n",
    "latitude_list = []\n",
    "longitude_list = []"
   ]
  },
  {
   "cell_type": "code",
   "execution_count": 88,
   "metadata": {
    "scrolled": true
   },
   "outputs": [
    {
     "name": "stdout",
     "output_type": "stream",
     "text": [
      "Request 1 - city#: 4488762; city: rocky mount, country: us\n",
      "City not found. Skipping city\n",
      "Request 2 - city#: 1862505; city: hirara, country: jp\n",
      "Request 3 - city#: 544318; city: kosa, country: ru\n",
      "Request 4 - city#: 6201424; city: mataura, country: pf\n",
      "Request 5 - city#: 1273574; city: vaini, country: to\n",
      "Request 6 - city#: 2206894; city: hokitika, country: nz\n",
      "Request 7 - city#: 4301307; city: morehead, country: pg\n",
      "{'rocky mount': ('us', 72, 30, 1, 17.22, 35.94, -77.8), 'hirara': ('jp', 72.94, 100, 32, 14.47, 24.8, 125.28), 'kosa': ('ru', 34.69, 91, 92, 11.56, 59.94, 54.99), 'mataura': ('pf', 48.99, 95, 92, 2.95, -46.19, 168.86), 'vaini': ('to', 74.56, 74, 0, 3.51, 15.34, 74.49), 'hokitika': ('nz', 51.52, 100, 0, 7.87, -42.72, 170.96), 'morehead': ('pg', 43, 60, 90, 6.93, 38.18, -83.43)}\n"
     ]
    }
   ],
   "source": [
    "# Pass coordinates to citipy to find closest city.\n",
    "num = 0\n",
    "\n",
    "for lat, lon in coordinates:\n",
    "    nearest_city = citipy.nearest_city(lat, lon)\n",
    "    \n",
    "    city = nearest_city.city_name\n",
    "    country = nearest_city.country_code\n",
    "    \n",
    "#     if city == '':\n",
    "#         print(\"City not found. Skipping city\")\n",
    "#         continue\n",
    "    \n",
    "    if city not in non_repeat_city_list:\n",
    "        query_url = f\"{url}APPID={api_key}&units={unit}&q={city}&country={country}\"\n",
    "        response = requests.get(query_url).json()\n",
    "        \n",
    "        if 'id' not in response:\n",
    "            print(\"City not found. Skipping city\")\n",
    "            continue\n",
    "        \n",
    "        num += 1\n",
    "        city_number = response['id']\n",
    "        print(f\"Request {num} - city#: {city_number}; city: {city}, country: {country}\")\n",
    "              \n",
    "        # Capture city info from openweathermap, as well as actual latitude and longitude of closest city.\n",
    "        max_temperature = response['main']['temp_max']\n",
    "        max_temperature_list.append(max_temperature)\n",
    "        \n",
    "        humidity = response['main']['humidity']\n",
    "        humidity_list.append(humidity)\n",
    "        \n",
    "        cloudiness = response['clouds']['all']\n",
    "        cloudiness_list.append(cloudiness)\n",
    "        \n",
    "        wind_speed = response['wind']['speed']\n",
    "        wind_speed_list.append(wind_speed)\n",
    "        \n",
    "        actual_latitude = response['coord']['lat']\n",
    "        latitude_list.append(actual_latitude)\n",
    "        \n",
    "        actual_longitude = response['coord']['lon']\n",
    "        longitude_list.append(actual_longitude)\n",
    "        \n",
    "        city_list.append(city)\n",
    "        country_list.append(country.upper())\n",
    "        \n",
    "        non_repeat_city_list[city] = country, max_temperature, humidity, cloudiness, wind_speed, actual_latitude, actual_longitude\n",
    "     \n",
    "print(non_repeat_city_list) "
   ]
  },
  {
   "cell_type": "code",
   "execution_count": 89,
   "metadata": {},
   "outputs": [
    {
     "data": {
      "text/html": [
       "<div>\n",
       "<style scoped>\n",
       "    .dataframe tbody tr th:only-of-type {\n",
       "        vertical-align: middle;\n",
       "    }\n",
       "\n",
       "    .dataframe tbody tr th {\n",
       "        vertical-align: top;\n",
       "    }\n",
       "\n",
       "    .dataframe thead th {\n",
       "        text-align: right;\n",
       "    }\n",
       "</style>\n",
       "<table border=\"1\" class=\"dataframe\">\n",
       "  <thead>\n",
       "    <tr style=\"text-align: right;\">\n",
       "      <th></th>\n",
       "      <th>City</th>\n",
       "      <th>Country</th>\n",
       "      <th>Max Temperature</th>\n",
       "      <th>Humidity</th>\n",
       "      <th>Cloudiness</th>\n",
       "      <th>Wind Speed</th>\n",
       "      <th>Latitude</th>\n",
       "      <th>Longitude</th>\n",
       "    </tr>\n",
       "  </thead>\n",
       "  <tbody>\n",
       "    <tr>\n",
       "      <th>0</th>\n",
       "      <td>rocky mount</td>\n",
       "      <td>US</td>\n",
       "      <td>72.00</td>\n",
       "      <td>30</td>\n",
       "      <td>1</td>\n",
       "      <td>17.22</td>\n",
       "      <td>35.94</td>\n",
       "      <td>-77.80</td>\n",
       "    </tr>\n",
       "    <tr>\n",
       "      <th>1</th>\n",
       "      <td>hirara</td>\n",
       "      <td>JP</td>\n",
       "      <td>72.94</td>\n",
       "      <td>100</td>\n",
       "      <td>32</td>\n",
       "      <td>14.47</td>\n",
       "      <td>24.80</td>\n",
       "      <td>125.28</td>\n",
       "    </tr>\n",
       "    <tr>\n",
       "      <th>2</th>\n",
       "      <td>kosa</td>\n",
       "      <td>RU</td>\n",
       "      <td>34.69</td>\n",
       "      <td>91</td>\n",
       "      <td>92</td>\n",
       "      <td>11.56</td>\n",
       "      <td>59.94</td>\n",
       "      <td>54.99</td>\n",
       "    </tr>\n",
       "    <tr>\n",
       "      <th>3</th>\n",
       "      <td>mataura</td>\n",
       "      <td>PF</td>\n",
       "      <td>48.99</td>\n",
       "      <td>95</td>\n",
       "      <td>92</td>\n",
       "      <td>2.95</td>\n",
       "      <td>-46.19</td>\n",
       "      <td>168.86</td>\n",
       "    </tr>\n",
       "    <tr>\n",
       "      <th>4</th>\n",
       "      <td>vaini</td>\n",
       "      <td>TO</td>\n",
       "      <td>74.56</td>\n",
       "      <td>74</td>\n",
       "      <td>0</td>\n",
       "      <td>3.51</td>\n",
       "      <td>15.34</td>\n",
       "      <td>74.49</td>\n",
       "    </tr>\n",
       "    <tr>\n",
       "      <th>5</th>\n",
       "      <td>hokitika</td>\n",
       "      <td>NZ</td>\n",
       "      <td>51.52</td>\n",
       "      <td>100</td>\n",
       "      <td>0</td>\n",
       "      <td>7.87</td>\n",
       "      <td>-42.72</td>\n",
       "      <td>170.96</td>\n",
       "    </tr>\n",
       "    <tr>\n",
       "      <th>6</th>\n",
       "      <td>morehead</td>\n",
       "      <td>PG</td>\n",
       "      <td>43.00</td>\n",
       "      <td>60</td>\n",
       "      <td>90</td>\n",
       "      <td>6.93</td>\n",
       "      <td>38.18</td>\n",
       "      <td>-83.43</td>\n",
       "    </tr>\n",
       "  </tbody>\n",
       "</table>\n",
       "</div>"
      ],
      "text/plain": [
       "          City Country  Max Temperature  Humidity  Cloudiness  Wind Speed  \\\n",
       "0  rocky mount      US            72.00        30           1       17.22   \n",
       "1       hirara      JP            72.94       100          32       14.47   \n",
       "2         kosa      RU            34.69        91          92       11.56   \n",
       "3      mataura      PF            48.99        95          92        2.95   \n",
       "4        vaini      TO            74.56        74           0        3.51   \n",
       "5     hokitika      NZ            51.52       100           0        7.87   \n",
       "6     morehead      PG            43.00        60          90        6.93   \n",
       "\n",
       "   Latitude  Longitude  \n",
       "0     35.94     -77.80  \n",
       "1     24.80     125.28  \n",
       "2     59.94      54.99  \n",
       "3    -46.19     168.86  \n",
       "4     15.34      74.49  \n",
       "5    -42.72     170.96  \n",
       "6     38.18     -83.43  "
      ]
     },
     "execution_count": 89,
     "metadata": {},
     "output_type": "execute_result"
    }
   ],
   "source": [
    "city_df = pd.DataFrame({\n",
    "    \"City\": city_list,\n",
    "    \"Country\": country_list,\n",
    "    \"Max Temperature\": max_temperature_list,\n",
    "    \"Humidity\": humidity_list,\n",
    "    \"Cloudiness\": cloudiness_list,\n",
    "    \"Wind Speed\": wind_speed_list,\n",
    "    \"Latitude\": latitude_list,\n",
    "    \"Longitude\": longitude_list\n",
    "})\n",
    "city_df"
   ]
  },
  {
   "cell_type": "code",
   "execution_count": 91,
   "metadata": {},
   "outputs": [
    {
     "name": "stdout",
     "output_type": "stream",
     "text": [
      "7\n"
     ]
    }
   ],
   "source": [
    "print(len(city_df))"
   ]
  },
  {
   "cell_type": "code",
   "execution_count": 94,
   "metadata": {},
   "outputs": [
    {
     "data": {
      "application/vnd.jupyter.widget-view+json": {
       "model_id": "7c859560ac1842c6b8f146286b4e0654",
       "version_major": 2,
       "version_minor": 0
      },
      "text/plain": [
       "Figure(layout=FigureLayout(height='420px'))"
      ]
     },
     "metadata": {},
     "output_type": "display_data"
    }
   ],
   "source": [
    "fig = gmaps.figure()\n",
    "fig"
   ]
  },
  {
   "cell_type": "code",
   "execution_count": null,
   "metadata": {},
   "outputs": [],
   "source": []
  }
 ],
 "metadata": {
  "kernelspec": {
   "display_name": "Python 3",
   "language": "python",
   "name": "python3"
  },
  "language_info": {
   "codemirror_mode": {
    "name": "ipython",
    "version": 3
   },
   "file_extension": ".py",
   "mimetype": "text/x-python",
   "name": "python",
   "nbconvert_exporter": "python",
   "pygments_lexer": "ipython3",
   "version": "3.7.0"
  }
 },
 "nbformat": 4,
 "nbformat_minor": 2
}
